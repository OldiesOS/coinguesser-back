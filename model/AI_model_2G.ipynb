{
 "cells": [
  {
   "cell_type": "markdown",
   "id": "54035a94-bb6e-4756-9735-2e184b13bb21",
   "metadata": {},
   "source": [
    "# **model_XGBoost_2.0**"
   ]
  },
  {
   "cell_type": "code",
   "execution_count": 2,
   "id": "5b537ce1-625d-493f-94ed-c9c2117855ca",
   "metadata": {},
   "outputs": [
    {
     "data": {
      "text/plain": [
       "['model_XGBoost_2.0.pkl']"
      ]
     },
     "execution_count": 2,
     "metadata": {},
     "output_type": "execute_result"
    }
   ],
   "source": [
    "import pandas as pd\n",
    "from sklearn.model_selection import train_test_split\n",
    "from sklearn.preprocessing import StandardScaler\n",
    "from sklearn.metrics import mean_squared_error\n",
    "import xgboost as xgb\n",
    "import joblib\n",
    "from datetime import datetime\n",
    "\n",
    "data = pd.read_csv('xrp_data_2024_new.csv')\n",
    "\n",
    "# timestamp를 datetime으로 변환\n",
    "data['timestamp'] = pd.to_datetime(data['timestamp'])\n",
    "\n",
    "features = data.drop(columns=['timestamp', 'target_close'])\n",
    "target = data['target_close']\n",
    "\n",
    "# 시계열 데이터 분리\n",
    "train_size = int(len(data) * 0.8)\n",
    "X_train, X_test = features.iloc[:train_size], features.iloc[train_size:]\n",
    "y_train, y_test = target.iloc[:train_size], target.iloc[train_size:]\n",
    "\n",
    "scaler = StandardScaler()\n",
    "X_train_scaled = scaler.fit_transform(X_train)\n",
    "X_test_scaled = scaler.transform(X_test)\n",
    "joblib.dump(scaler, 'scaler_2.0.pkl')\n",
    "\n",
    "model = xgb.XGBRegressor(\n",
    "    n_estimators=400,\n",
    "    learning_rate=0.05,\n",
    "    max_depth=4,\n",
    "    subsample=0.8,\n",
    "    colsample_bytree=0.8,\n",
    "    random_state=42\n",
    ")\n",
    "\n",
    "model.fit(X_train_scaled, y_train)\n",
    "\n",
    "joblib.dump(model, 'model_XGBoost_2.0.pkl')"
   ]
  },
  {
   "cell_type": "markdown",
   "id": "dedb73dc-d6bc-44f0-b3b3-5f1b12c22c1e",
   "metadata": {},
   "source": [
    "# **model_XGBoost_3.0**"
   ]
  },
  {
   "cell_type": "code",
   "execution_count": 4,
   "id": "b85aa01f-3cde-4635-a8ac-d7dd32b9ed9c",
   "metadata": {},
   "outputs": [
    {
     "name": "stdout",
     "output_type": "stream",
     "text": [
      "R² Score: 0.9567573721722809\n"
     ]
    }
   ],
   "source": [
    "import pandas as pd\n",
    "from sklearn.model_selection import train_test_split\n",
    "from sklearn.preprocessing import StandardScaler\n",
    "from sklearn.metrics import mean_squared_error\n",
    "import xgboost as xgb\n",
    "import joblib\n",
    "from datetime import datetime\n",
    "\n",
    "# 데이터 로드 및 변환\n",
    "data = pd.read_csv('xrp_data_2024_latest_2.csv') # 데이터 3056개\n",
    "data['timestamp'] = pd.to_datetime(data['timestamp'])\n",
    "\n",
    "# 피처와 타겟 분리\n",
    "features = data.drop(columns=['timestamp', 'target_close'])\n",
    "target = data['target_close']\n",
    "\n",
    "# 시계열 데이터 분리\n",
    "train_size = int(len(data) * 0.8)\n",
    "X_train, X_test = features.iloc[:train_size], features.iloc[train_size:]\n",
    "y_train, y_test = target.iloc[:train_size], target.iloc[train_size:]\n",
    "\n",
    "# 가중치 부여 (최신 데이터에 높은 가중치)\n",
    "train_indices = range(len(X_train))\n",
    "weights = [1 + 2 * (i / len(train_indices)) for i in train_indices]\n",
    "\n",
    "# 데이터 스케일링\n",
    "scaler = StandardScaler()\n",
    "X_train_scaled = scaler.fit_transform(X_train)\n",
    "X_test_scaled = scaler.transform(X_test)\n",
    "#joblib.dump(scaler, 'scaler_3.0.pkl')\n",
    "\n",
    "# 모델 초기화\n",
    "model = xgb.XGBRegressor(\n",
    "    n_estimators=400,\n",
    "    learning_rate=0.05,\n",
    "    max_depth=4,\n",
    "    subsample=0.8,\n",
    "    colsample_bytree=0.8,\n",
    "    random_state=42\n",
    ")\n",
    "\n",
    "# 모델 학습 (가중치 추가)\n",
    "model.fit(X_train_scaled, y_train, sample_weight=weights)\n",
    "\n",
    "# 모델 저장\n",
    "#joblib.dump(model, 'model_XGBoost_3.0.pkl')\n",
    "from sklearn.metrics import r2_score\n",
    "y_pred = model.predict(X_test_scaled)\n",
    "r2 = r2_score(y_test, y_pred)\n",
    "print(f\"R² Score: {r2}\")"
   ]
  }
 ],
 "metadata": {
  "kernelspec": {
   "display_name": "Python 3 (ipykernel)",
   "language": "python",
   "name": "python3"
  },
  "language_info": {
   "codemirror_mode": {
    "name": "ipython",
    "version": 3
   },
   "file_extension": ".py",
   "mimetype": "text/x-python",
   "name": "python",
   "nbconvert_exporter": "python",
   "pygments_lexer": "ipython3",
   "version": "3.12.4"
  }
 },
 "nbformat": 4,
 "nbformat_minor": 5
}
